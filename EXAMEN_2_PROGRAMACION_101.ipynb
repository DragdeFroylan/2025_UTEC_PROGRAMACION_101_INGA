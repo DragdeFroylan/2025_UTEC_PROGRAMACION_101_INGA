{
  "nbformat": 4,
  "nbformat_minor": 0,
  "metadata": {
    "colab": {
      "provenance": [],
      "authorship_tag": "ABX9TyPwUKgHrq5Y0xmPUyRmZz30",
      "include_colab_link": true
    },
    "kernelspec": {
      "name": "python3",
      "display_name": "Python 3"
    },
    "language_info": {
      "name": "python"
    }
  },
  "cells": [
    {
      "cell_type": "markdown",
      "metadata": {
        "id": "view-in-github",
        "colab_type": "text"
      },
      "source": [
        "<a href=\"https://colab.research.google.com/github/DragdeFroylan/2025_UTEC_PROGRAMACION_101_INGA/blob/main/EXAMEN_2_PROGRAMACION_101.ipynb\" target=\"_parent\"><img src=\"https://colab.research.google.com/assets/colab-badge.svg\" alt=\"Open In Colab\"/></a>"
      ]
    },
    {
      "cell_type": "markdown",
      "source": [
        "Pregunta 1:"
      ],
      "metadata": {
        "id": "TCUcX-w0vsV0"
      }
    },
    {
      "cell_type": "code",
      "execution_count": 1,
      "metadata": {
        "colab": {
          "base_uri": "https://localhost:8080/"
        },
        "id": "sY1XgYJ6u8gp",
        "outputId": "b75df191-c0e7-4721-c783-f8ac30c5c877"
      },
      "outputs": [
        {
          "output_type": "stream",
          "name": "stdout",
          "text": [
            "Catálogo actualizado:\n",
            "['AI Rebellion', 'Breaking Python', 'Data Science 101', 'Machine Love', 'Neural Networks']\n"
          ]
        }
      ],
      "source": [
        "#Tupla original\n",
        "catalogo_popular = (\"Breaking Python\", \"Data Science 101\", \"Machine Love\", \"Debug Wars\")\n",
        "\n",
        "#Convertir la tupla a lista\n",
        "catalogo_lista = list(catalogo_popular)\n",
        "\n",
        "#Agregar una nueva serie\n",
        "catalogo_lista.append(\"Neural Networks\")\n",
        "\n",
        "#Reemplazar \"Debug Wars\" por \"AI Rebellion\"\n",
        "#Primero encontramos el índice de \"Debug Wars\"\n",
        "indice_debug = catalogo_lista.index(\"Debug Wars\")\n",
        "catalogo_lista[indice_debug] = \"AI Rebellion\"\n",
        "\n",
        "#Ordenar alfabéticamente\n",
        "catalogo_lista.sort()\n",
        "\n",
        "#Mostrar el resultado final\n",
        "print(\"Catálogo actualizado:\")\n",
        "print(catalogo_lista)"
      ]
    },
    {
      "cell_type": "markdown",
      "source": [
        "Pregunta 2:"
      ],
      "metadata": {
        "id": "qewAr4kIws4C"
      }
    },
    {
      "cell_type": "code",
      "source": [
        "#Lista original de géneros\n",
        "generos = [\"Drama\", \"Comedia\", \"Acción\", \"Sci-Fi\", \"Documental\", \"Terror\", \"Romance\"]\n",
        "\n",
        "#Obtener los géneros del medio (excluyendo el primero y el último)\n",
        "generos_medio = generos[2:5]\n",
        "\n",
        "#Obtener los tres primeros géneros\n",
        "generos_primeros = generos[:3]\n",
        "\n",
        "#Géneros en orden inverso usando slicing\n",
        "generos_inverso = generos[::-1]\n",
        "\n",
        "#Mostrar resultados\n",
        "print(\"Géneros del medio:\", generos_medio)\n",
        "print(\"Tres primeros géneros:\", generos_primeros)\n",
        "print(\"Géneros en orden inverso:\", generos_inverso)"
      ],
      "metadata": {
        "colab": {
          "base_uri": "https://localhost:8080/"
        },
        "id": "yVAOE7NPwuWM",
        "outputId": "7d5beb78-243c-42fb-def0-a749c1753002"
      },
      "execution_count": 3,
      "outputs": [
        {
          "output_type": "stream",
          "name": "stdout",
          "text": [
            "Géneros del medio: ['Acción', 'Sci-Fi', 'Documental']\n",
            "Tres primeros géneros: ['Drama', 'Comedia', 'Acción']\n",
            "Géneros en orden inverso: ['Romance', 'Terror', 'Documental', 'Sci-Fi', 'Acción', 'Comedia', 'Drama']\n"
          ]
        }
      ]
    },
    {
      "cell_type": "markdown",
      "source": [
        "Pregunta 3:"
      ],
      "metadata": {
        "id": "pFlEY5t3xchW"
      }
    },
    {
      "cell_type": "code",
      "source": [
        "#Lista original de ratings\n",
        "ratings = [4.5, 3.0, 5.0, 2.5, 4.0, 1.5]\n",
        "\n",
        "#Ratings mayores a 3.5\n",
        "ratings_altos = [r for r in ratings if r > 3.5]\n",
        "\n",
        "#Ratings convertidos a escala del 1 al 100\n",
        "ratings_escala_100 = [r * 20 for r in ratings]  # 5.0 * 20 = 100\n",
        "\n",
        "#Lista de categorías (\"Alta\", \"Media\", \"Baja\")\n",
        "ratings_categorias = [\n",
        "    \"Alta\" if r > 4 else \"Media\" if r >= 3 else \"Baja\"\n",
        "    for r in ratings\n",
        "]\n",
        "\n",
        "#Mostrar resultados\n",
        "print(\"Ratings mayores a 3.5:\", ratings_altos)\n",
        "print(\"Ratings en escala 1-100:\", ratings_escala_100)\n",
        "print(\"Categoría de ratings:\", ratings_categorias)"
      ],
      "metadata": {
        "colab": {
          "base_uri": "https://localhost:8080/"
        },
        "id": "ghxELxmdxeDo",
        "outputId": "88509b98-b62b-4b01-90db-11ec8b2d4b52"
      },
      "execution_count": 4,
      "outputs": [
        {
          "output_type": "stream",
          "name": "stdout",
          "text": [
            "Ratings mayores a 3.5: [4.5, 5.0, 4.0]\n",
            "Ratings en escala 1-100: [90.0, 60.0, 100.0, 50.0, 80.0, 30.0]\n",
            "Categoría de ratings: ['Alta', 'Media', 'Alta', 'Baja', 'Media', 'Baja']\n"
          ]
        }
      ]
    },
    {
      "cell_type": "markdown",
      "source": [
        "Pregunta 4:"
      ],
      "metadata": {
        "id": "suRFQZl2yDra"
      }
    },
    {
      "cell_type": "code",
      "source": [
        "#Diccionario original del historial de visualización\n",
        "historial = {\n",
        "    \"Breaking Python\": 3,\n",
        "    \"Machine Love\": 5,\n",
        "    \"Data Science 101\": 2\n",
        "}\n",
        "\n",
        "#Aumentar en 1 la visualización de \"Data Science 101\"\n",
        "historial[\"Data Science 101\"] += 1\n",
        "\n",
        "#Añadir la serie \"AI Rebellion\" con 1 visualización\n",
        "historial[\"AI Rebellion\"] = 1\n",
        "\n",
        "#Eliminar \"Machine Love\"\n",
        "historial.pop(\"Machine Love\")\n",
        "\n",
        "#Obtener series con más de 2 visualizaciones\n",
        "series_mas_de_2 = [serie for serie, vistas in historial.items() if vistas > 2]\n",
        "\n",
        "#Mostrar resultados\n",
        "print(\"Historial actualizado:\", historial)\n",
        "print(\"Series vistas más de 2 veces:\", series_mas_de_2)\n"
      ],
      "metadata": {
        "colab": {
          "base_uri": "https://localhost:8080/"
        },
        "id": "vmJ6U4FmyF63",
        "outputId": "220899c1-9317-4c6f-865b-ce588d924cf1"
      },
      "execution_count": 5,
      "outputs": [
        {
          "output_type": "stream",
          "name": "stdout",
          "text": [
            "Historial actualizado: {'Breaking Python': 3, 'Data Science 101': 3, 'AI Rebellion': 1}\n",
            "Series vistas más de 2 veces: ['Breaking Python', 'Data Science 101']\n"
          ]
        }
      ]
    },
    {
      "cell_type": "markdown",
      "source": [
        "Pregunta 5:"
      ],
      "metadata": {
        "id": "DMKTMpfKy75M"
      }
    },
    {
      "cell_type": "code",
      "source": [
        "#Conjuntos de usuarios por serie\n",
        "usuarios_serie_A = {\"ana\", \"luis\", \"pedro\", \"maria\"}\n",
        "usuarios_serie_B = {\"maria\", \"pedro\", \"carla\", \"lucas\"}\n",
        "\n",
        "#Usuarios que vieron ambas series (intersección)\n",
        "usuarios_ambas = usuarios_serie_A & usuarios_serie_B\n",
        "\n",
        "#Usuarios que vieron solo la serie A (diferencia)\n",
        "usuarios_solo_A = usuarios_serie_A - usuarios_serie_B\n",
        "\n",
        "#Usuarios únicos que vieron al menos una de las dos (unión)\n",
        "usuarios_unicos = usuarios_serie_A | usuarios_serie_B\n",
        "\n",
        "#Mostrar resultados\n",
        "print(\"Usuarios que vieron ambas series:\", usuarios_ambas)\n",
        "print(\"Usuarios que vieron solo la serie A:\", usuarios_solo_A)\n",
        "print(\"Usuarios únicos que vieron al menos una:\", usuarios_unicos)"
      ],
      "metadata": {
        "colab": {
          "base_uri": "https://localhost:8080/"
        },
        "id": "33JxQ7Agy9zw",
        "outputId": "3f3a657c-c68e-4d18-9c05-35f014aeaedd"
      },
      "execution_count": 6,
      "outputs": [
        {
          "output_type": "stream",
          "name": "stdout",
          "text": [
            "Usuarios que vieron ambas series: {'maria', 'pedro'}\n",
            "Usuarios que vieron solo la serie A: {'luis', 'ana'}\n",
            "Usuarios únicos que vieron al menos una: {'carla', 'pedro', 'lucas', 'luis', 'maria', 'ana'}\n"
          ]
        }
      ]
    },
    {
      "cell_type": "markdown",
      "source": [
        "Pregunta 6:"
      ],
      "metadata": {
        "id": "9ck2NoJx0DZ6"
      }
    },
    {
      "cell_type": "code",
      "source": [
        "from collections import Counter\n",
        "\n",
        "#Diccionario con sets de recomendaciones\n",
        "recomendaciones = {\n",
        "    \"ana\": {\"Machine Love\", \"AI Rebellion\"},\n",
        "    \"luis\": {\"AI Rebellion\", \"Debug Wars\"},\n",
        "    \"pedro\": {\"Debug Wars\", \"Machine Love\"}\n",
        "}\n",
        "\n",
        "#Lista de sets\n",
        "sets_recom = list(recomendaciones.values())\n",
        "\n",
        "#Series recomendadas a todos los usuarios\n",
        "recomendadas_todos = sets_recom[0] & sets_recom[1] & sets_recom[2]\n",
        "\n",
        "#Conteo de todas las recomendaciones\n",
        "todas = [serie for s in sets_recom for serie in s]\n",
        "conteo = Counter(todas)\n",
        "\n",
        "#Series recomendadas a al menos dos personas\n",
        "recomendadas_dos = {serie for serie, c in conteo.items() if c >= 2}\n",
        "\n",
        "#Series recomendadas solo a una persona\n",
        "recomendadas_una = {serie for serie, c in conteo.items() if c == 1}\n",
        "\n",
        "#Resultados con validación de sets vacíos\n",
        "print(\"Series recomendadas a todos:\", recomendadas_todos if recomendadas_todos else \"Ninguna fue recomendada a todos\")\n",
        "print(\"Series recomendadas a al menos dos personas:\", recomendadas_dos)\n",
        "print(\"Series recomendadas solo a una persona:\", recomendadas_una if recomendadas_una else \"Ninguna fue recomendada solo a una persona\")"
      ],
      "metadata": {
        "colab": {
          "base_uri": "https://localhost:8080/"
        },
        "id": "XTYIf21A0E0s",
        "outputId": "03c9e74b-ac59-4b3d-b8e9-55c5b1a01e67"
      },
      "execution_count": 8,
      "outputs": [
        {
          "output_type": "stream",
          "name": "stdout",
          "text": [
            "Series recomendadas a todos: Ninguna fue recomendada a todos\n",
            "Series recomendadas a al menos dos personas: {'Debug Wars', 'AI Rebellion', 'Machine Love'}\n",
            "Series recomendadas solo a una persona: Ninguna fue recomendada solo a una persona\n"
          ]
        }
      ]
    },
    {
      "cell_type": "markdown",
      "source": [
        "Pregunta 7:"
      ],
      "metadata": {
        "id": "ihqKwuYG197J"
      }
    },
    {
      "cell_type": "code",
      "source": [
        "#Lista de tuplas (serie, rating)\n",
        "puntuaciones = [(\"Breaking Python\", 4.0), (\"AI Rebellion\", 5.0), (\"Debug Wars\", 2.0)]\n",
        "\n",
        "#Crear el diccionario usando comprensión de diccionario y reglas dadas\n",
        "valoraciones = {\n",
        "    serie: (\n",
        "        \"Excelente\" if rating >= 4.5\n",
        "        else \"Buena\" if rating >= 3\n",
        "        else \"Regular\"\n",
        "    )\n",
        "    for serie, rating in puntuaciones\n",
        "}\n",
        "\n",
        "#Mostrar resultado\n",
        "print(\"Valoraciones por serie:\")\n",
        "print(valoraciones)"
      ],
      "metadata": {
        "colab": {
          "base_uri": "https://localhost:8080/"
        },
        "id": "-78pMB5Y1_4L",
        "outputId": "1334368b-13f5-4c22-ca06-559e024fda9e"
      },
      "execution_count": 9,
      "outputs": [
        {
          "output_type": "stream",
          "name": "stdout",
          "text": [
            "Valoraciones por serie:\n",
            "{'Breaking Python': 'Buena', 'AI Rebellion': 'Excelente', 'Debug Wars': 'Regular'}\n"
          ]
        }
      ]
    },
    {
      "cell_type": "markdown",
      "source": [
        "Pregunta 8:"
      ],
      "metadata": {
        "id": "SMoDLLEU2V0Y"
      }
    },
    {
      "cell_type": "code",
      "source": [
        "from collections import Counter\n",
        "\n",
        "#Diccionario de gustos por usuario\n",
        "gustos = {\n",
        "    \"ana\": [\"Sci-Fi\", \"Drama\", \"Documental\"],\n",
        "    \"luis\": [\"Comedia\", \"Acción\", \"Sci-Fi\"],\n",
        "    \"pedro\": [\"Drama\", \"Sci-Fi\", \"Romance\"]\n",
        "}\n",
        "\n",
        "# 1.Primer género favorito de cada usuario\n",
        "primeros_generos = [preferencias[0] for preferencias in gustos.values()]\n",
        "\n",
        "# 2.Todos los géneros únicos mencionados\n",
        "generos_unicos = list(set(genero for preferencias in gustos.values() for genero in preferencias))\n",
        "\n",
        "# 3.Verificar si hay algún género que aparece más de una vez en primera posición\n",
        "conteo = Counter(primeros_generos)\n",
        "max_frecuencia = conteo.most_common(1)[0][1] if conteo else 0\n",
        "\n",
        "if max_frecuencia > 1:\n",
        "    genero_mas_frecuente = conteo.most_common(1)[0][0]\n",
        "else:\n",
        "    genero_mas_frecuente = \"Ningún género se repite en la primera posición\"\n",
        "\n",
        "#Mostrar resultados\n",
        "print(\"Primer género favorito de cada usuario:\", primeros_generos)\n",
        "print(\"Todos los géneros mencionados sin repeticiones:\", generos_unicos)\n",
        "print(\"Género más común en la primera posición:\", genero_mas_frecuente)"
      ],
      "metadata": {
        "colab": {
          "base_uri": "https://localhost:8080/"
        },
        "id": "EN2Og3eM2XmD",
        "outputId": "9e8624d8-5f61-4ddc-d140-0b8ba0bc8b0b"
      },
      "execution_count": 11,
      "outputs": [
        {
          "output_type": "stream",
          "name": "stdout",
          "text": [
            "Primer género favorito de cada usuario: ['Sci-Fi', 'Comedia', 'Drama']\n",
            "Todos los géneros mencionados sin repeticiones: ['Comedia', 'Drama', 'Documental', 'Sci-Fi', 'Romance', 'Acción']\n",
            "Género más común en la primera posición: Ningún género se repite en la primera posición\n"
          ]
        }
      ]
    },
    {
      "cell_type": "markdown",
      "source": [
        "Pregunta 9:"
      ],
      "metadata": {
        "id": "eQh04FXH4lCX"
      }
    },
    {
      "cell_type": "code",
      "source": [
        "from collections import defaultdict\n",
        "\n",
        "#Lista de votos (serie, puntaje)\n",
        "votos = [\n",
        "    (\"Breaking Python\", 5),\n",
        "    (\"AI Rebellion\", 4),\n",
        "    (\"Breaking Python\", 4),\n",
        "    (\"Debug Wars\", 3),\n",
        "    (\"AI Rebellion\", 5)\n",
        "]\n",
        "\n",
        "#Crear un diccionario donde la clave sea la serie y el valor una lista de sus votos\n",
        "votos_por_serie = defaultdict(list)\n",
        "\n",
        "#Agrupar votos\n",
        "for serie, puntaje in votos:\n",
        "    votos_por_serie[serie].append(puntaje)\n",
        "\n",
        "#Mostrar diccionario de votos agrupados\n",
        "print(\"Votos por serie:\")\n",
        "for serie, lista_votos in votos_por_serie.items():\n",
        "    print(f\"{serie}: {lista_votos}\")\n",
        "\n",
        "#Calcular el promedio de rating por serie\n",
        "print(\"\\nPromedios por serie:\")\n",
        "for serie, lista_votos in votos_por_serie.items():\n",
        "    promedio = sum(lista_votos) / len(lista_votos)\n",
        "    print(f\"{serie}: {promedio:.2f}\")"
      ],
      "metadata": {
        "colab": {
          "base_uri": "https://localhost:8080/"
        },
        "id": "qk145jfh4m8g",
        "outputId": "4496aa92-11f1-4cbd-fbbe-3d9556a5b7c7"
      },
      "execution_count": 12,
      "outputs": [
        {
          "output_type": "stream",
          "name": "stdout",
          "text": [
            "Votos por serie:\n",
            "Breaking Python: [5, 4]\n",
            "AI Rebellion: [4, 5]\n",
            "Debug Wars: [3]\n",
            "\n",
            "Promedios por serie:\n",
            "Breaking Python: 4.50\n",
            "AI Rebellion: 4.50\n",
            "Debug Wars: 3.00\n"
          ]
        }
      ]
    },
    {
      "cell_type": "markdown",
      "source": [
        "Pregunta 10:"
      ],
      "metadata": {
        "id": "qGGU25gN5bMj"
      }
    },
    {
      "cell_type": "code",
      "source": [
        "#Catálogo de series disponible\n",
        "catalogo = [\"AI Rebellion\", \"Debug Wars\", \"Machine Love\", \"Data Science 101\"]\n",
        "\n",
        "#Historial de usuarios (serie: vistas)\n",
        "historial = {\n",
        "    \"ana\": {\"AI Rebellion\": 3, \"Debug Wars\": 1},\n",
        "    \"luis\": {\"Machine Love\": 2},\n",
        "    \"pedro\": {\"Data Science 101\": 1, \"AI Rebellion\": 1}\n",
        "}\n",
        "\n",
        "#Función de recomendación\n",
        "def recomendar_series(usuario, historial, catalogo):\n",
        "    series_vistas = set(historial.get(usuario, {}).keys())\n",
        "    recomendaciones = [serie for serie in catalogo if serie not in series_vistas]\n",
        "    return recomendaciones\n",
        "\n",
        "#Pedir input del usuario (tal como está en las claves del diccionario)\n",
        "usuario_input = input(\"Ingrese el nombre del usuario: \").strip()\n",
        "\n",
        "#Verificar si el usuario existe\n",
        "if usuario_input in historial:\n",
        "    recomendaciones = recomendar_series(usuario_input, historial, catalogo)\n",
        "    print(\"Series recomendadas para\", usuario_input + \":\", recomendaciones)\n",
        "else:\n",
        "    print(\"El usuario no tiene historial registrado.\")\n"
      ],
      "metadata": {
        "colab": {
          "base_uri": "https://localhost:8080/"
        },
        "id": "fmHEsYw45cl8",
        "outputId": "e0d43a27-00ee-4682-b0b5-1b74732a9c74"
      },
      "execution_count": 19,
      "outputs": [
        {
          "output_type": "stream",
          "name": "stdout",
          "text": [
            "Ingrese el nombre del usuario: ana\n",
            "Series recomendadas para ana: ['Machine Love', 'Data Science 101']\n"
          ]
        }
      ]
    }
  ]
}