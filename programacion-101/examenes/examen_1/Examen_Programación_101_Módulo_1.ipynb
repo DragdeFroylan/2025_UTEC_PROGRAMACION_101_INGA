{
  "nbformat": 4,
  "nbformat_minor": 0,
  "metadata": {
    "colab": {
      "provenance": [],
      "include_colab_link": true
    },
    "kernelspec": {
      "name": "python3",
      "display_name": "Python 3"
    },
    "language_info": {
      "name": "python"
    }
  },
  "cells": [
    {
      "cell_type": "markdown",
      "metadata": {
        "id": "view-in-github",
        "colab_type": "text"
      },
      "source": [
        "<a href=\"https://colab.research.google.com/github/DragdeFroylan/2025_UTEC_PROGRAMACION_101_INGA/blob/main/programacion-101/examenes/examen_1/Examen_Programaci%C3%B3n_101_M%C3%B3dulo_1.ipynb\" target=\"_parent\"><img src=\"https://colab.research.google.com/assets/colab-badge.svg\" alt=\"Open In Colab\"/></a>"
      ]
    },
    {
      "cell_type": "markdown",
      "source": [
        "<img src=\"https://posgrado.utec.edu.pe/sites/default/files/2023-08/Testimonial-home-2.jpg\" alt=\"HTML5 Icon\" width=\"900\" height=\"250\" >\n"
      ],
      "metadata": {
        "id": "ub41hbIV6UQ6"
      }
    },
    {
      "cell_type": "markdown",
      "source": [
        "#**Examen Programación 101 – Módulo 1**\n"
      ],
      "metadata": {
        "id": "zpZSxKDI51_7"
      }
    },
    {
      "cell_type": "markdown",
      "source": [
        "**Contexto**\n",
        "\n",
        "Estás colaborando en el diseño de un sistema básico de autenticación y validación de datos para una empresa tecnológica en expansión. El sistema debe realizar verificaciones fundamentales sobre usuarios, contraseñas, códigos de acceso e identificadores, utilizando únicamente estructuras condicionales y operaciones básicas, dado que el prototipo está pensado para funcionar en dispositivos con capacidad de cómputo muy limitada.\n",
        "\n",
        "Cada pregunta del examen representa uno de los desafíos que debes resolver en este sistema: desde validar un código, clasificar niveles de acceso, hasta verificar si una entrada cumple con múltiples criterios simultáneamente."
      ],
      "metadata": {
        "id": "qphDGB6eAe-K"
      }
    },
    {
      "cell_type": "markdown",
      "source": [
        "\n",
        "\n",
        "**Nombre y Apellido:** Edgard Froylan Inga Quillas\n",
        "\n",
        "---"
      ],
      "metadata": {
        "id": "_MYFZY5D97r5"
      }
    },
    {
      "cell_type": "markdown",
      "source": [
        "Duración: 45 minutos\n",
        "\n",
        "**Instrucciones**\n",
        "\n",
        "1. No está permitido el uso de funciones (def), bucles (for, while)\n",
        "\n",
        "2. Puedes utilizar:\n",
        "\n",
        "  * Asignación de variables\n",
        "  * Operadores aritméticos y lógicos\n",
        "  * Condicionales (if, elif, else)\n",
        "  * Funciones input() y print()\n",
        "\n",
        "3. Se evaluará no solo la respuesta correcta, sino también la claridad, buenas prácticas, uso correcto de tipos de datos y estructura lógica.\n",
        "\n",
        "---"
      ],
      "metadata": {
        "id": "VInsS6-u7MUH"
      }
    },
    {
      "cell_type": "markdown",
      "source": [
        "**Pregunta 1: Validación de Usuario**\n"
      ],
      "metadata": {
        "id": "xVGPY6H68IO_"
      }
    },
    {
      "cell_type": "markdown",
      "source": [
        "Escribe un programa que valide un usuario según estas reglas:\n",
        "\n",
        "* El usuario debe tener exactamente 5 caracteres.\n",
        "* El primer carácter debe ser mayúscula.\n",
        "* El último carácter debe ser un número.\n",
        "\n",
        "Imprime \"Usuario válido\" o \"Usuario inválido\" según corresponda."
      ],
      "metadata": {
        "id": "2mSAVboy8Q6m"
      }
    },
    {
      "cell_type": "code",
      "execution_count": 24,
      "metadata": {
        "id": "mOSniL8V5jR4",
        "outputId": "b59ad43a-df1f-4892-b17f-b0d722cc5690",
        "colab": {
          "base_uri": "https://localhost:8080/"
        }
      },
      "outputs": [
        {
          "output_type": "stream",
          "name": "stdout",
          "text": [
            "Ingrese su usuario: Edga6\n",
            "Usuario válido\n"
          ]
        }
      ],
      "source": [
        "# Your code starts here\n",
        "# user_example: usuario = \"A12b4\"\n",
        "\n",
        "# Ask the user to enter a username\n",
        "usuario = input(\"Ingrese su usuario: \")\n",
        "\n",
        "# Check three conditions:\n",
        "# 1. The username must be exactly 5 characters long\n",
        "# 2. The first character must be an uppercase letter\n",
        "# 3. The last character must be a digit\n",
        "if len(usuario) == 5 and usuario[0].isupper() and usuario[-1].isdigit():\n",
        "    # If all conditions are met, the username is valid\n",
        "    print(\"Usuario válido\")\n",
        "else:\n",
        "    # If any condition is not met, the username is invalid\n",
        "    print(\"Usuario inválido\")\n",
        "\n",
        "# Your code ends here"
      ]
    },
    {
      "cell_type": "markdown",
      "source": [
        "**Pregunta 2: Nivel de Seguridad Numérico**\n",
        "\n",
        "Pide tres dígitos separados al usuario usando input(). Luego:\n",
        "\n",
        "* Imprime \"ALTO\" si los tres dígitos son diferentes.\n",
        "* Imprime \"MEDIO\" si solo dos son iguales.\n",
        "* Imprime \"BAJO\" si los tres son iguales."
      ],
      "metadata": {
        "id": "ZI1HrCRe8uU6"
      }
    },
    {
      "cell_type": "code",
      "source": [
        "# Your code starts here\n",
        "\n",
        "# Ask the user to input three digits separately\n",
        "a = input(\"Ingresa primer digito: \")\n",
        "b = input(\"Ingresa segundo digito: \")\n",
        "c = input(\"Ingresa tercer digito: \")\n",
        "\n",
        "# Check if all three digits are the same\n",
        "if a == b and b == c:\n",
        "    print(\"BAJO\")  # All digits are equal → Low security\n",
        "# Check if all three digits are different\n",
        "elif a != b and b != c and a != c:\n",
        "    print(\"ALTO\")  # All digits are different → High security\n",
        "# Otherwise, exactly two digits must be equal\n",
        "else:\n",
        "    print(\"MEDIO\")  # Two digits are equal → Medium security\n",
        "\n",
        "# Your code ends here"
      ],
      "metadata": {
        "id": "hEUnfNCK88lF",
        "outputId": "864f4c54-09e3-40ae-88c1-6071ba6fa9be",
        "colab": {
          "base_uri": "https://localhost:8080/"
        }
      },
      "execution_count": 25,
      "outputs": [
        {
          "output_type": "stream",
          "name": "stdout",
          "text": [
            "Ingresa primer digito: a\n",
            "Ingresa segundo digito: a\n",
            "Ingresa tercer digito: a\n",
            "BAJO\n"
          ]
        }
      ]
    },
    {
      "cell_type": "markdown",
      "source": [
        "**Pregunta 3: Código de Acceso**\n",
        "\n",
        "Pide al usuario ingresar un número entero de tres dígitos.\n",
        "Verifica si la suma de sus tres dígitos es exactamente 10:\n",
        "\n",
        "* Si lo es, imprime \"Código válido\".\n",
        "* Si no, imprime \"Código inválido\"."
      ],
      "metadata": {
        "id": "DaAUaft_9DMe"
      }
    },
    {
      "cell_type": "code",
      "source": [
        "# Your code starts here\n",
        "\n",
        "# Ask the user to enter a three-digit number\n",
        "numero = input(\"Ingrese un número de tres dígitos: \")\n",
        "\n",
        "# Check if the input has exactly 3 characters and all are digits\n",
        "if len(numero) != 3 or not numero.isdigit():\n",
        "    # If the input is not exactly three digits, show a specific message\n",
        "    print(\"Por favor, ingrese un número de 3 dígitos.\")\n",
        "else:\n",
        "    # Convert each digit to an integer\n",
        "    digito1 = int(numero[0])\n",
        "    digito2 = int(numero[1])\n",
        "    digito3 = int(numero[2])\n",
        "\n",
        "    # Calculate the sum of the three digits\n",
        "    suma = digito1 + digito2 + digito3\n",
        "\n",
        "    # Check if the sum is exactly 10\n",
        "    if suma == 10:\n",
        "        print(\"Código válido\")\n",
        "    else:\n",
        "        print(\"Código inválido\")\n",
        "\n",
        "# Your code ends here"
      ],
      "metadata": {
        "id": "Xa15jei89HaU",
        "outputId": "38107a6a-5795-41bc-fea8-1fc1572e76ac",
        "colab": {
          "base_uri": "https://localhost:8080/"
        }
      },
      "execution_count": 26,
      "outputs": [
        {
          "output_type": "stream",
          "name": "stdout",
          "text": [
            "Ingrese un número de tres dígitos: 622\n",
            "Código válido\n"
          ]
        }
      ]
    },
    {
      "cell_type": "markdown",
      "source": [
        "**Pregunta 4: Identificador de carácter**\n",
        "\n",
        "Pide al usuario un solo carácter y determina:\n",
        "\n",
        "* Si es vocal minúscula → \"Vocal minúscula\"\n",
        "* Si es vocal mayúscula → \"Vocal MAYÚSCULA\"\n",
        "* Si es número → \"Número\"\n",
        "* En cualquier otro caso → \"Símbolo especial\""
      ],
      "metadata": {
        "id": "zHCprzaP9fpB"
      }
    },
    {
      "cell_type": "code",
      "source": [
        "# Your code starts here\n",
        "\n",
        "# Ask the user to input a single character\n",
        "char = input(\"Ingresa un solo caracter: \")\n",
        "\n",
        "# Validate that the input is exactly one character\n",
        "if len(char) != 1:\n",
        "    print(\"Solo debes ingresar un solo caracter.\")\n",
        "else:\n",
        "    # Check if it's a lowercase vowel\n",
        "    if char in \"aeiou\":\n",
        "        print(\"Es una vocal minúscula\")  # Lowercase vowel\n",
        "    # Check if it's an uppercase vowel\n",
        "    elif char in \"AEIOU\":\n",
        "        print(\"Es una vocal MAYÚSCULA\")  # Uppercase vowel\n",
        "    # Check if it's a digit\n",
        "    elif char.isdigit():\n",
        "        print(\"Es número\")  # Digit\n",
        "    # Otherwise, it's a special character\n",
        "    else:\n",
        "        print(\"Es un símbolo especial\")  # Special character\n",
        "\n",
        "# Your code ends here"
      ],
      "metadata": {
        "id": "OvCpLVUT92uZ",
        "outputId": "6d578ce4-6643-44a7-c54a-594e83c00248",
        "colab": {
          "base_uri": "https://localhost:8080/"
        }
      },
      "execution_count": 21,
      "outputs": [
        {
          "output_type": "stream",
          "name": "stdout",
          "text": [
            "Enter a single character: a\n",
            "Es una vocal minúscula\n"
          ]
        }
      ]
    },
    {
      "cell_type": "markdown",
      "source": [
        "**Pregunta 5: Verificación cruzada de identidad**\n",
        "\n",
        "Un sistema de validación recibe los siguientes tres datos como entrada:\n",
        "\n",
        "\n",
        "1. Un código de 6 caracteres (ej. \"A1b2C3\")\n",
        "2. Un número de 3 cifras (ej. 528)\n",
        "3. Una letra (ej. \"b\")\n",
        "\n",
        "El programa debe:\n",
        "\n",
        "* Verificar si:\n",
        "\n",
        "  1. El primer carácter del código es una letra mayúscula,\n",
        "  2. El último carácter del código es un número,\n",
        "  3. La suma de los tres dígitos del número es par, y\n",
        "  4. La letra ingresada se encuentra dentro del código sin distinguir mayúsculas/minúsculas.\n",
        "\n",
        "* Si todas las condiciones se cumplen, imprimir: \"Identidad verificada\"\n",
        "\n",
        "* Si alguna no se cumple, imprimir: \"Acceso denegado\""
      ],
      "metadata": {
        "id": "FJyAxh0I-0N8"
      }
    },
    {
      "cell_type": "code",
      "source": [
        "# Your code starts here\n",
        "\n",
        "# Ask the user to input the 6-character code\n",
        "codigo = input(\"Ingrese el código de 6 caracteres: \")\n",
        "\n",
        "# Ask the user to input a 3-digit number\n",
        "numero = input(\"Ingrese un número de 3 cifras: \")\n",
        "\n",
        "# Ask the user to input a single letter\n",
        "letra = input(\"Ingrese una letra: \")\n",
        "\n",
        "# Check all the conditions\n",
        "if len(codigo) == 6 and len(numero) == 3 and len(letra) == 1:\n",
        "    # Check if the first character is uppercase\n",
        "    condicion1 = codigo[0].isupper()\n",
        "\n",
        "    # Check if the last character is a digit\n",
        "    condicion2 = codigo[-1].isdigit()\n",
        "\n",
        "    # Convert each digit to integer and calculate their sum\n",
        "    digito1 = int(numero[0])\n",
        "    digito2 = int(numero[1])\n",
        "    digito3 = int(numero[2])\n",
        "    suma = digito1 + digito2 + digito3\n",
        "\n",
        "    # Check if the sum is even\n",
        "    condicion3 = suma % 2 == 0\n",
        "\n",
        "    # Check if the letter exists in the code, case-insensitive\n",
        "    condicion4 = letra.lower() in codigo.lower()\n",
        "\n",
        "    # Final verification\n",
        "    if condicion1 and condicion2 and condicion3 and condicion4:\n",
        "        print(\"Identidad verificada\")\n",
        "    else:\n",
        "        print(\"Acceso denegado\")\n",
        "else:\n",
        "    # Input format is incorrect\n",
        "    print(\"Acceso denegado\")\n",
        "\n",
        "# Your code ends here"
      ],
      "metadata": {
        "id": "Z16sSPRc_TDH",
        "outputId": "a47c87c7-4ad1-4ed9-b55d-57653323122e",
        "colab": {
          "base_uri": "https://localhost:8080/"
        }
      },
      "execution_count": 23,
      "outputs": [
        {
          "output_type": "stream",
          "name": "stdout",
          "text": [
            "Ingrese el código de 6 caracteres: safd32\n",
            "Ingrese un número de 3 cifras: 234\n",
            "Ingrese una letra: f\n",
            "Acceso denegado\n"
          ]
        }
      ]
    },
    {
      "cell_type": "markdown",
      "source": [
        "---\n",
        "\n",
        "### Gracias por completar este examen!\n",
        "\n",
        "---\n"
      ],
      "metadata": {
        "id": "vWNdqa91-NiX"
      }
    }
  ]
}